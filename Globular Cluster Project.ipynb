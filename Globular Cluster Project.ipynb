{
 "cells": [
  {
   "cell_type": "markdown",
   "metadata": {},
   "source": [
    "Images from M15 2018Oct16-17"
   ]
  },
  {
   "cell_type": "code",
   "execution_count": 1,
   "metadata": {},
   "outputs": [],
   "source": [
    "import numpy as np"
   ]
  },
  {
   "cell_type": "code",
   "execution_count": 2,
   "metadata": {},
   "outputs": [],
   "source": [
    "class Magnitude:\n",
    "    \"\"\"\n",
    "    Calculates the Absolute Magnitude\n",
    "    \"\"\"\n",
    "    def __init__(self, m, error_m, D=10.14*10**3, error_D=0.3086):\n",
    "        \"\"\"\n",
    "        Parameters\n",
    "        ----------\n",
    "        \n",
    "        Integrated: Integrated Magnitude\n",
    "        \n",
    "        D: Distance in pc\n",
    "        \n",
    "        Returns\n",
    "        -------\n",
    "        \"\"\"\n",
    "        self.m = m\n",
    "        self.D = D\n",
    "        self.error_m = error_m\n",
    "        self.error_D = error_D\n",
    "        \n",
    "        self.Distance_Modulus()\n",
    "        self.Error()\n",
    "        \n",
    "        return\n",
    "        \n",
    "    def Distance_Modulus(self):\n",
    "        \"\"\"\n",
    "        Distance Modulus Formula solving for Absolute Magnitude\n",
    "        \"\"\"\n",
    "        D = self.D\n",
    "        m = self.m\n",
    "        \n",
    "        self.M = -5*np.log(D)+5+m\n",
    "        \n",
    "        return self\n",
    "\n",
    "    def Error(self):\n",
    "        \"\"\"\n",
    "        Calculates Error of Absolute Magnitude Using Error Propagation\n",
    "        \"\"\"\n",
    "        D = self.D\n",
    "        m = self.m\n",
    "        error_D = self.error_D\n",
    "        error_m = self.error_m\n",
    "\n",
    "        Partial_D = -5*(1/(D*np.log(10)))\n",
    "        Partial_m = 1\n",
    "        error = np.sqrt(Partial_D**2*error_D**2+Partial_m**2*error_m**2)\n",
    "        \n",
    "        self.error = error\n",
    "        \n",
    "        return self"
   ]
  }
 ],
 "metadata": {
  "kernelspec": {
   "display_name": "Python 3",
   "language": "python",
   "name": "python3"
  },
  "language_info": {
   "codemirror_mode": {
    "name": "ipython",
    "version": 3
   },
   "file_extension": ".py",
   "mimetype": "text/x-python",
   "name": "python",
   "nbconvert_exporter": "python",
   "pygments_lexer": "ipython3",
   "version": "3.7.0"
  }
 },
 "nbformat": 4,
 "nbformat_minor": 2
}
