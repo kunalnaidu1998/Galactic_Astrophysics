{
 "cells": [
  {
   "cell_type": "code",
   "execution_count": 1,
   "metadata": {},
   "outputs": [],
   "source": [
    "import numpy as np\n",
    "import matplotlib.pyplot as plt"
   ]
  },
  {
   "cell_type": "markdown",
   "metadata": {},
   "source": [
    "### Question 1 d)\n",
    "\n",
    "If we assume that the total luminocity of the galaxy is $1.5*10^{10}L_{solar}$. We can the total luminocity $L_D$ and divide it by the total number of stars $N_{tot}$ to get the average luminocity of each star $L$.\n",
    "\n",
    "\\begin{align*}\n",
    "L &= \\frac{L_D}{N_{tot}} \\\\\n",
    "L &= \\frac{1.5*10^{10}L_{solar}}{2\\pi\\Sigma_0h_r^2} \\\\\n",
    "\\end{align*}\n",
    "\n",
    "From the previous parts we know that $\\Sigma_0=2n(0,0)h_z$, $n(0,0)=0.15pc^{-3}$, and $h_z=400pc$"
   ]
  },
  {
   "cell_type": "code",
   "execution_count": 2,
   "metadata": {},
   "outputs": [
    {
     "name": "stdout",
     "output_type": "stream",
     "text": [
      "120.0\n"
     ]
    }
   ],
   "source": [
    "n=0.15\n",
    "hz=400.0\n",
    "hr=3500.0\n",
    "sigma_0=2.0*n*hz\n",
    "print(sigma_0)"
   ]
  },
  {
   "cell_type": "markdown",
   "metadata": {},
   "source": [
    "We calculated $\\Sigma_0$ to be 120\n",
    "\n",
    "Using $\\Sigma_0$ we can calculate the average luminocity of each star $L$"
   ]
  },
  {
   "cell_type": "code",
   "execution_count": 3,
   "metadata": {},
   "outputs": [
    {
     "name": "stdout",
     "output_type": "stream",
     "text": [
      "1.6240300315499525\n"
     ]
    }
   ],
   "source": [
    "L=1.5e10/(2.0*np.pi*sigma_0*hr**2)\n",
    "print(L)"
   ]
  },
  {
   "cell_type": "markdown",
   "metadata": {},
   "source": [
    "We calculated $L$ to be 1.624$ L_{solar}$.\n",
    "\n",
    "The surface brightness is given by \n",
    "\n",
    "\\begin{align*}\n",
    "I(R)=L\\Sigma(r)\\\\\n",
    "\\end{align*}\n",
    "\n",
    "We also know from previous parts that\n",
    "\n",
    "\\begin{align*}\n",
    "\\Sigma(r)=\\Sigma_0e^{\\frac{-r}{h_r}} \\\\\n",
    "\\end{align*}\n",
    "\n",
    "So we can calculate the surface brightness using the following equation\n",
    "\n",
    "\\begin{align*}\n",
    "I(R)=L\\Sigma_0e^{\\frac{-r}{h_r}} \\\\\n",
    "I(R)=1.624*120*e^{\\frac{-r}{3500}} \\\\\n",
    "\\end{align*}\n",
    "\n",
    "Also we can figure out the sureface brightness of the Galaxy at r=0 ($I_0$)"
   ]
  },
  {
   "cell_type": "code",
   "execution_count": 4,
   "metadata": {},
   "outputs": [
    {
     "name": "stdout",
     "output_type": "stream",
     "text": [
      "194.88000000000002\n"
     ]
    }
   ],
   "source": [
    "I_0=1.624*120*1\n",
    "print(I_0)"
   ]
  },
  {
   "cell_type": "markdown",
   "metadata": {},
   "source": [
    "We calculated $I_0$ to be $194.88 L_{solar}pc^{-2}$"
   ]
  },
  {
   "cell_type": "markdown",
   "metadata": {},
   "source": [
    "If we plot the surface brightness of the disk as a function of r"
   ]
  },
  {
   "cell_type": "code",
   "execution_count": 26,
   "metadata": {},
   "outputs": [],
   "source": [
    "r=40000\n",
    "data=[]\n",
    "for r in range(0,r):\n",
    "    I_R=L*sigma_0*np.exp(-r/hr)\n",
    "    data.append(I_R)"
   ]
  },
  {
   "cell_type": "code",
   "execution_count": 27,
   "metadata": {},
   "outputs": [
    {
     "data": {
      "text/plain": [
       "Text(0,0.5,'Surface Brightness Lpc^{-2} ')"
      ]
     },
     "execution_count": 27,
     "metadata": {},
     "output_type": "execute_result"
    },
    {
     "data": {
      "image/png": "[encoded data removed]",
      "text/plain": [
       "<matplotlib.figure.Figure at 0x118696c50>"
      ]
     },
     "metadata": {},
     "output_type": "display_data"
    }
   ],
   "source": [
    "plt.plot(range(0,r+1),data)\n",
    "\n",
    "plt.grid('on')\n",
    "plt.title('Surface Brightness Of The Galaxy For Different Galactocentric Radius')\n",
    "plt.xlabel('Galactocentric Radius (pc)')\n",
    "plt.ylabel('Surface Brightness Lpc^{-2} ')\n",
    "\n"
   ]
  }
 ],
 "metadata": {
  "kernelspec": {
   "display_name": "Python 3",
   "language": "python",
   "name": "python3"
  },
  "language_info": {
   "codemirror_mode": {
    "name": "ipython",
    "version": 3
   },
   "file_extension": ".py",
   "mimetype": "text/x-python",
   "name": "python",
   "nbconvert_exporter": "python",
   "pygments_lexer": "ipython3",
   "version": "3.6.3"
  }
 },
 "nbformat": 4,
 "nbformat_minor": 2
}
